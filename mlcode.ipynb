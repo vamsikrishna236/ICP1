{
  "nbformat": 4,
  "nbformat_minor": 0,
  "metadata": {
    "colab": {
      "provenance": []
    },
    "kernelspec": {
      "name": "python3",
      "display_name": "Python 3"
    },
    "language_info": {
      "name": "python"
    }
  },
  "cells": [
    {
      "cell_type": "code",
      "execution_count": 1,
      "metadata": {
        "colab": {
          "base_uri": "https://localhost:8080/"
        },
        "id": "qi3DXyJ4OKsz",
        "outputId": "b7826f56-76d1-4daa-ec7a-d45a9d0f6d1c"
      },
      "outputs": [
        {
          "output_type": "stream",
          "name": "stdout",
          "text": [
            "Sorted ages: [19, 19, 20, 22, 24, 24, 24, 25, 25, 26, 19, 26]\n",
            "Min age: 19\n",
            "Max age: 26\n",
            "Median age: 24.0\n",
            "Average age: 22.75\n",
            "Range of ages: 7\n"
          ]
        }
      ],
      "source": [
        "# List of ages\n",
        "ages = [19, 22, 19, 24, 20, 25, 26, 24, 25, 24]\n",
        "\n",
        "# Sort the list\n",
        "ages.sort()\n",
        "\n",
        "# Find the min and max age\n",
        "min_age = ages[0]\n",
        "max_age = ages[-1]\n",
        "\n",
        "# Add the min and max age again to the list\n",
        "ages.extend([min_age, max_age])\n",
        "\n",
        "# Find the median age\n",
        "n = len(ages)\n",
        "if n % 2 == 0:\n",
        "    median_age = (ages[n//2 - 1] + ages[n//2]) / 2\n",
        "else:\n",
        "    median_age = ages[n//2]\n",
        "\n",
        "# Find the average age\n",
        "average_age = sum(ages) / len(ages)\n",
        "\n",
        "# Find the range of ages\n",
        "age_range = max_age - min_age\n",
        "\n",
        "print(\"Sorted ages:\", ages)\n",
        "print(\"Min age:\", min_age)\n",
        "print(\"Max age:\", max_age)\n",
        "print(\"Median age:\", median_age)\n",
        "print(\"Average age:\", average_age)\n",
        "print(\"Range of ages:\", age_range)\n"
      ]
    },
    {
      "cell_type": "code",
      "source": [
        "# Create an empty dictionary called dog\n",
        "dog = {}\n",
        "\n",
        "# Add name, color, breed, legs, age to the dog dictionary\n",
        "dog['name'] = 'Buddy'\n",
        "dog['color'] = 'Brown'\n",
        "dog['breed'] = 'Labrador'\n",
        "dog['legs'] = 4\n",
        "dog['age'] = 5\n",
        "\n",
        "# Create a student dictionary\n",
        "student = {\n",
        "    'first_name': 'John',\n",
        "    'last_name': 'Doe',\n",
        "    'gender': 'Male',\n",
        "    'age': 20,\n",
        "    'marital_status': 'Single',\n",
        "    'skills': ['Python', 'JavaScript'],\n",
        "    'country': 'USA',\n",
        "    'city': 'New York',\n",
        "    'address': '123 Main St'\n",
        "}\n",
        "\n",
        "# Get the length of the student dictionary\n",
        "student_length = len(student)\n",
        "\n",
        "# Get the value of skills and check the data type\n",
        "skills = student['skills']\n",
        "skills_type = type(skills)\n",
        "\n",
        "# Modify the skills values by adding one or two skills\n",
        "skills.extend(['HTML', 'CSS'])\n",
        "\n",
        "# Get the dictionary keys as a list\n",
        "student_keys = list(student.keys())\n",
        "\n",
        "# Get the dictionary values as a list\n",
        "student_values = list(student.values())\n",
        "\n",
        "print(\"Dog dictionary:\", dog)\n",
        "print(\"Student dictionary length:\", student_length)\n",
        "print(\"Type of skills:\", skills_type)\n",
        "print(\"Modified skills:\", skills)\n",
        "print(\"Dictionary keys:\", student_keys)\n",
        "print(\"Dictionary values:\", student_values)\n"
      ],
      "metadata": {
        "colab": {
          "base_uri": "https://localhost:8080/"
        },
        "id": "b9I8pff8Oc0h",
        "outputId": "739edd2d-79c3-4f41-d938-50304f18f15b"
      },
      "execution_count": 2,
      "outputs": [
        {
          "output_type": "stream",
          "name": "stdout",
          "text": [
            "Dog dictionary: {'name': 'Buddy', 'color': 'Brown', 'breed': 'Labrador', 'legs': 4, 'age': 5}\n",
            "Student dictionary length: 9\n",
            "Type of skills: <class 'list'>\n",
            "Modified skills: ['Python', 'JavaScript', 'HTML', 'CSS']\n",
            "Dictionary keys: ['first_name', 'last_name', 'gender', 'age', 'marital_status', 'skills', 'country', 'city', 'address']\n",
            "Dictionary values: ['John', 'Doe', 'Male', 20, 'Single', ['Python', 'JavaScript', 'HTML', 'CSS'], 'USA', 'New York', '123 Main St']\n"
          ]
        }
      ]
    },
    {
      "cell_type": "code",
      "source": [
        "# Create a tuple containing names of sisters and brothers\n",
        "sisters = ('Emily', 'Sophia')\n",
        "brothers = ('Jack', 'Michael')\n",
        "\n",
        "# Join brothers and sisters tuples and assign it to siblings\n",
        "siblings = brothers + sisters\n",
        "\n",
        "# Get the number of siblings\n",
        "num_siblings = len(siblings)\n",
        "\n",
        "# Modify the siblings tuple and add the name of father and mother\n",
        "father = 'John'\n",
        "mother = 'Mary'\n",
        "family_members = siblings + (father, mother)\n",
        "\n",
        "print(\"Siblings:\", siblings)\n",
        "print(\"Number of siblings:\", num_siblings)\n",
        "print(\"Family members:\", family_members)\n",
        "\n"
      ],
      "metadata": {
        "colab": {
          "base_uri": "https://localhost:8080/"
        },
        "id": "s7eqJed3O0Vk",
        "outputId": "24ea9e33-e71c-4d90-a200-77b07b511aa4"
      },
      "execution_count": 3,
      "outputs": [
        {
          "output_type": "stream",
          "name": "stdout",
          "text": [
            "Siblings: ('Jack', 'Michael', 'Emily', 'Sophia')\n",
            "Number of siblings: 4\n",
            "Family members: ('Jack', 'Michael', 'Emily', 'Sophia', 'John', 'Mary')\n"
          ]
        }
      ]
    },
    {
      "cell_type": "code",
      "source": [
        "it_companies = {'Facebook', 'Google', 'Microsoft', 'Apple', 'IBM', 'Oracle', 'Amazon'}\n",
        "A = {19, 22, 24, 20, 25, 26}\n",
        "B = {19, 22, 20, 25, 26, 24, 28, 27}\n",
        "age = [22, 19, 24, 25, 26, 24, 25, 24]\n",
        "\n",
        "# Find the length of the set it_companies\n",
        "length_it_companies = len(it_companies)\n",
        "\n",
        "# Add 'Twitter' to it_companies\n",
        "it_companies.add('Twitter')\n",
        "\n",
        "# Insert multiple IT companies at once to the set it_companies\n",
        "it_companies.update(['LinkedIn', 'Netflix'])\n",
        "\n",
        "# Remove one of the companies from the set it_companies\n",
        "it_companies.remove('Netflix')\n",
        "\n",
        "# The difference between remove and discard:\n",
        "# - remove raises a KeyError if the element is not present\n",
        "# - discard does not raise any error if the element is not present\n",
        "# Join A and B\n",
        "union_AB = A.union(B)\n",
        "\n",
        "# Find A intersection B\n",
        "intersection_AB = A.intersection(B)\n",
        "\n",
        "# Check if A is a subset of B\n",
        "is_A_subset_of_B = A.issubset(B)\n",
        "\n",
        "# Check if A and B are disjoint sets\n",
        "are_A_and_B_disjoint = A.isdisjoint(B)\n",
        "\n",
        "# Join A with B and B with A\n",
        "A_B = A.union(B)\n",
        "B_A = B.union(A)\n",
        "\n",
        "# Find the symmetric difference between A and B\n",
        "symmetric_difference_AB = A.symmetric_difference(B)\n",
        "\n",
        "# Delete the sets completely\n",
        "del it_companies, A, B\n",
        "\n",
        "# Convert the ages to a set and compare the length of the list and the set\n",
        "age_set = set(age)\n",
        "length_age_list = len(age)\n",
        "length_age_set = len(age_set)\n",
        "\n",
        "print(\"Length of it_companies:\", length_it_companies)\n",
        "print(\"Union of A and B:\", union_AB)\n",
        "print(\"Intersection of A and B:\", intersection_AB)\n",
        "print(\"Is A a subset of B:\", is_A_subset_of_B)\n",
        "print(\"Are A and B disjoint sets:\", are_A_and_B_disjoint)\n",
        "print(\"Join A with B:\", A_B)\n",
        "print(\"Join B with A:\", B_A)\n",
        "print(\"Symmetric difference between A and B:\", symmetric_difference_AB)\n",
        "print(\"Length of age list:\", length_age_list)\n",
        "print(\"Length of age set:\", length_age_set)\n"
      ],
      "metadata": {
        "colab": {
          "base_uri": "https://localhost:8080/"
        },
        "id": "VwFAzS11PfHI",
        "outputId": "1e8533bc-353c-4b51-9b50-47b9d9d9e073"
      },
      "execution_count": 4,
      "outputs": [
        {
          "output_type": "stream",
          "name": "stdout",
          "text": [
            "Length of it_companies: 7\n",
            "Union of A and B: {19, 20, 22, 24, 25, 26, 27, 28}\n",
            "Intersection of A and B: {19, 20, 22, 24, 25, 26}\n",
            "Is A a subset of B: True\n",
            "Are A and B disjoint sets: False\n",
            "Join A with B: {19, 20, 22, 24, 25, 26, 27, 28}\n",
            "Join B with A: {19, 20, 22, 24, 25, 26, 27, 28}\n",
            "Symmetric difference between A and B: {27, 28}\n",
            "Length of age list: 8\n",
            "Length of age set: 5\n"
          ]
        }
      ]
    },
    {
      "cell_type": "code",
      "source": [
        "import math\n",
        "\n",
        "# Radius of the circle\n",
        "radius = 30\n",
        "\n",
        "# Calculate the area of a circle\n",
        "_area_of_circle_ = math.pi * radius ** 2\n",
        "\n",
        "# Calculate the circumference of a circle\n",
        "_circum_of_circle_ = 2 * math.pi * radius\n",
        "\n",
        "print(\"Area of the circle:\", _area_of_circle_)\n",
        "print(\"Circumference of the circle:\", _circum_of_circle_)\n",
        "\n",
        "# Take radius as user input and calculate the area\n",
        "user_radius = float(input(\"Enter the radius of the circle: \"))\n",
        "user_area_of_circle = math.pi * user_radius ** 2\n",
        "print(\"Area of the circle with radius\", user_radius, \":\", user_area_of_circle)\n",
        "\n"
      ],
      "metadata": {
        "colab": {
          "base_uri": "https://localhost:8080/"
        },
        "id": "epC-_hHcPz06",
        "outputId": "ff753073-190d-4910-b2f8-cc1013cddcb9"
      },
      "execution_count": 6,
      "outputs": [
        {
          "output_type": "stream",
          "name": "stdout",
          "text": [
            "Area of the circle: 2827.4333882308138\n",
            "Circumference of the circle: 188.49555921538757\n",
            "Enter the radius of the circle: 26\n",
            "Area of the circle with radius 26.0 : 2123.7166338267\n"
          ]
        }
      ]
    },
    {
      "cell_type": "code",
      "source": [
        "sentence = \"I am a teacher and I love to inspire and teach people\"\n",
        "\n",
        "# Split the sentence into words\n",
        "words = sentence.split()\n",
        "\n",
        "# Convert the list of words into a set to get unique words\n",
        "unique_words = set(words)\n",
        "\n",
        "# Find the number of unique words\n",
        "num_unique_words = len(unique_words)\n",
        "\n",
        "print(\"Number of unique words:\", num_unique_words)\n"
      ],
      "metadata": {
        "colab": {
          "base_uri": "https://localhost:8080/"
        },
        "id": "hXTxoFayQOAD",
        "outputId": "c16ddda7-8020-493a-d0af-ddb66ee30851"
      },
      "execution_count": 8,
      "outputs": [
        {
          "output_type": "stream",
          "name": "stdout",
          "text": [
            "Number of unique words: 10\n"
          ]
        }
      ]
    },
    {
      "cell_type": "code",
      "source": [
        "print(\"Name\\tAge\\tCountry\\tCity\")\n",
        "print(\"Asabeneh\\t250\\tFinland\\tHelsinki\")\n"
      ],
      "metadata": {
        "colab": {
          "base_uri": "https://localhost:8080/"
        },
        "id": "uoKsEX4xQdiq",
        "outputId": "912c34fc-e8b6-4fa8-9e5f-9921e3e9a254"
      },
      "execution_count": 9,
      "outputs": [
        {
          "output_type": "stream",
          "name": "stdout",
          "text": [
            "Name\tAge\tCountry\tCity\n",
            "Asabeneh\t250\tFinland\tHelsinki\n"
          ]
        }
      ]
    },
    {
      "cell_type": "code",
      "source": [
        "radius = 10\n",
        "area = 3.14 * radius ** 2\n",
        "\n",
        "# Using string formatting to display the result\n",
        "result = \"The area of a circle with radius {} is {} meters square.\".format(radius, area)\n",
        "print(result)\n"
      ],
      "metadata": {
        "colab": {
          "base_uri": "https://localhost:8080/"
        },
        "id": "gyvNQlJJQoSf",
        "outputId": "123bf831-d1ab-4eec-bb2a-8717991673bb"
      },
      "execution_count": 10,
      "outputs": [
        {
          "output_type": "stream",
          "name": "stdout",
          "text": [
            "The area of a circle with radius 10 is 314.0 meters square.\n"
          ]
        }
      ]
    },
    {
      "cell_type": "code",
      "source": [
        "# Read the number of students from the user\n",
        "N = int(input(\"Enter the number of students: \"))\n",
        "\n",
        "# Initialize an empty list to store weights in pounds\n",
        "weights_lbs = []\n",
        "\n",
        "# Read weights in pounds from the user\n",
        "for i in range(N):\n",
        "    weight_lbs = float(input(\"Enter weight of student {} (lbs): \".format(i+1)))\n",
        "    weights_lbs.append(weight_lbs)\n",
        "\n",
        "# Convert weights from pounds to kilograms and store them in a separate list\n",
        "weights_kg = []\n",
        "for weight_lbs in weights_lbs:\n",
        "    weight_kg = round(weight_lbs * 0.453592, 2)\n",
        "    weights_kg.append(weight_kg)\n",
        "\n",
        "# Print the weights in kilograms\n",
        "print(\"Weights in kilograms:\", weights_kg)\n"
      ],
      "metadata": {
        "colab": {
          "base_uri": "https://localhost:8080/"
        },
        "id": "2uD7r72sQ1Uu",
        "outputId": "2f9f5f05-055d-43d0-cfa5-28025d4b89de"
      },
      "execution_count": 11,
      "outputs": [
        {
          "output_type": "stream",
          "name": "stdout",
          "text": [
            "Enter the number of students: 4\n",
            "Enter weight of student 1 (lbs): 155\n",
            "Enter weight of student 2 (lbs): 150\n",
            "Enter weight of student 3 (lbs): 145\n",
            "Enter weight of student 4 (lbs): 148\n",
            "Weights in kilograms: [70.31, 68.04, 65.77, 67.13]\n"
          ]
        }
      ]
    }
  ]
}